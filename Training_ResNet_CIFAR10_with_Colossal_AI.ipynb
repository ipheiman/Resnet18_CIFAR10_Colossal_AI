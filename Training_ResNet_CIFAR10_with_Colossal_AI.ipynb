{
  "nbformat": 4,
  "nbformat_minor": 0,
  "metadata": {
    "colab": {
      "provenance": [],
      "gpuType": "T4"
    },
    "kernelspec": {
      "name": "python3",
      "display_name": "Python 3"
    },
    "language_info": {
      "name": "python"
    },
    "accelerator": "GPU"
  },
  "cells": [
    {
      "cell_type": "code",
      "execution_count": 1,
      "metadata": {
        "colab": {
          "base_uri": "https://localhost:8080/"
        },
        "id": "f2gTtyyGK5HM",
        "outputId": "6660e048-9e49-44f2-bb5e-0db9be4916f9"
      },
      "outputs": [
        {
          "output_type": "stream",
          "name": "stdout",
          "text": [
            "Cloning into 'ColossalAI'...\n",
            "remote: Enumerating objects: 41584, done.\u001b[K\n",
            "remote: Counting objects: 100% (50/50), done.\u001b[K\n",
            "remote: Compressing objects: 100% (25/25), done.\u001b[K\n",
            "remote: Total 41584 (delta 35), reused 33 (delta 25), pack-reused 41534\u001b[K\n",
            "Receiving objects: 100% (41584/41584), 29.67 MiB | 24.78 MiB/s, done.\n",
            "Resolving deltas: 100% (28317/28317), done.\n"
          ]
        }
      ],
      "source": [
        "!git clone https://github.com/hpcaitech/ColossalAI.git"
      ]
    },
    {
      "cell_type": "code",
      "source": [
        "cd ColossalAI"
      ],
      "metadata": {
        "id": "tanvvfLwOHyV",
        "colab": {
          "base_uri": "https://localhost:8080/"
        },
        "outputId": "eaa2f943-ede4-4f35-b3b8-d1408c9441bc"
      },
      "execution_count": 3,
      "outputs": [
        {
          "output_type": "stream",
          "name": "stdout",
          "text": [
            "/content/ColossalAI\n"
          ]
        }
      ]
    },
    {
      "cell_type": "code",
      "source": [
        "!pip install ."
      ],
      "metadata": {
        "colab": {
          "base_uri": "https://localhost:8080/",
          "height": 1000
        },
        "id": "3tbz0s7idGh6",
        "outputId": "a401f0e8-a33c-4901-fb3f-da62d60bd96c"
      },
      "execution_count": 4,
      "outputs": [
        {
          "output_type": "stream",
          "name": "stdout",
          "text": [
            "Processing /content/ColossalAI\n",
            "  Preparing metadata (setup.py) ... \u001b[?25l\u001b[?25hdone\n",
            "Requirement already satisfied: numpy in /usr/local/lib/python3.10/dist-packages (from colossalai==0.3.6) (1.25.2)\n",
            "Requirement already satisfied: tqdm in /usr/local/lib/python3.10/dist-packages (from colossalai==0.3.6) (4.66.2)\n",
            "Requirement already satisfied: psutil in /usr/local/lib/python3.10/dist-packages (from colossalai==0.3.6) (5.9.5)\n",
            "Requirement already satisfied: packaging in /usr/local/lib/python3.10/dist-packages (from colossalai==0.3.6) (24.0)\n",
            "Collecting pre-commit (from colossalai==0.3.6)\n",
            "  Downloading pre_commit-3.7.0-py2.py3-none-any.whl (204 kB)\n",
            "\u001b[2K     \u001b[90m━━━━━━━━━━━━━━━━━━━━━━━━━━━━━━━━━━━━━━━━\u001b[0m \u001b[32m204.2/204.2 kB\u001b[0m \u001b[31m5.5 MB/s\u001b[0m eta \u001b[36m0:00:00\u001b[0m\n",
            "\u001b[?25hRequirement already satisfied: rich in /usr/local/lib/python3.10/dist-packages (from colossalai==0.3.6) (13.7.1)\n",
            "Requirement already satisfied: click in /usr/local/lib/python3.10/dist-packages (from colossalai==0.3.6) (8.1.7)\n",
            "Collecting fabric (from colossalai==0.3.6)\n",
            "  Downloading fabric-3.2.2-py3-none-any.whl (59 kB)\n",
            "\u001b[2K     \u001b[90m━━━━━━━━━━━━━━━━━━━━━━━━━━━━━━━━━━━━━━━━\u001b[0m \u001b[32m59.4/59.4 kB\u001b[0m \u001b[31m8.7 MB/s\u001b[0m eta \u001b[36m0:00:00\u001b[0m\n",
            "\u001b[?25hCollecting contexttimer (from colossalai==0.3.6)\n",
            "  Downloading contexttimer-0.3.3.tar.gz (4.9 kB)\n",
            "  Preparing metadata (setup.py) ... \u001b[?25l\u001b[?25hdone\n",
            "Collecting ninja (from colossalai==0.3.6)\n",
            "  Downloading ninja-1.11.1.1-py2.py3-none-manylinux1_x86_64.manylinux_2_5_x86_64.whl (307 kB)\n",
            "\u001b[2K     \u001b[90m━━━━━━━━━━━━━━━━━━━━━━━━━━━━━━━━━━━━━━━━\u001b[0m \u001b[32m307.2/307.2 kB\u001b[0m \u001b[31m11.7 MB/s\u001b[0m eta \u001b[36m0:00:00\u001b[0m\n",
            "\u001b[?25hRequirement already satisfied: torch>=1.12 in /usr/local/lib/python3.10/dist-packages (from colossalai==0.3.6) (2.2.1+cu121)\n",
            "Requirement already satisfied: safetensors in /usr/local/lib/python3.10/dist-packages (from colossalai==0.3.6) (0.4.2)\n",
            "Collecting einops (from colossalai==0.3.6)\n",
            "  Downloading einops-0.7.0-py3-none-any.whl (44 kB)\n",
            "\u001b[2K     \u001b[90m━━━━━━━━━━━━━━━━━━━━━━━━━━━━━━━━━━━━━━━━\u001b[0m \u001b[32m44.6/44.6 kB\u001b[0m \u001b[31m6.8 MB/s\u001b[0m eta \u001b[36m0:00:00\u001b[0m\n",
            "\u001b[?25hRequirement already satisfied: pydantic in /usr/local/lib/python3.10/dist-packages (from colossalai==0.3.6) (2.6.4)\n",
            "Collecting ray (from colossalai==0.3.6)\n",
            "  Downloading ray-2.10.0-cp310-cp310-manylinux2014_x86_64.whl (65.1 MB)\n",
            "\u001b[2K     \u001b[90m━━━━━━━━━━━━━━━━━━━━━━━━━━━━━━━━━━━━━━━━\u001b[0m \u001b[32m65.1/65.1 MB\u001b[0m \u001b[31m11.4 MB/s\u001b[0m eta \u001b[36m0:00:00\u001b[0m\n",
            "\u001b[?25hRequirement already satisfied: sentencepiece in /usr/local/lib/python3.10/dist-packages (from colossalai==0.3.6) (0.1.99)\n",
            "Requirement already satisfied: google in /usr/local/lib/python3.10/dist-packages (from colossalai==0.3.6) (2.0.3)\n",
            "Requirement already satisfied: protobuf in /usr/local/lib/python3.10/dist-packages (from colossalai==0.3.6) (3.20.3)\n",
            "Requirement already satisfied: filelock in /usr/local/lib/python3.10/dist-packages (from torch>=1.12->colossalai==0.3.6) (3.13.4)\n",
            "Requirement already satisfied: typing-extensions>=4.8.0 in /usr/local/lib/python3.10/dist-packages (from torch>=1.12->colossalai==0.3.6) (4.11.0)\n",
            "Requirement already satisfied: sympy in /usr/local/lib/python3.10/dist-packages (from torch>=1.12->colossalai==0.3.6) (1.12)\n",
            "Requirement already satisfied: networkx in /usr/local/lib/python3.10/dist-packages (from torch>=1.12->colossalai==0.3.6) (3.3)\n",
            "Requirement already satisfied: jinja2 in /usr/local/lib/python3.10/dist-packages (from torch>=1.12->colossalai==0.3.6) (3.1.3)\n",
            "Requirement already satisfied: fsspec in /usr/local/lib/python3.10/dist-packages (from torch>=1.12->colossalai==0.3.6) (2023.6.0)\n",
            "Collecting nvidia-cuda-nvrtc-cu12==12.1.105 (from torch>=1.12->colossalai==0.3.6)\n",
            "  Using cached nvidia_cuda_nvrtc_cu12-12.1.105-py3-none-manylinux1_x86_64.whl (23.7 MB)\n",
            "Collecting nvidia-cuda-runtime-cu12==12.1.105 (from torch>=1.12->colossalai==0.3.6)\n",
            "  Using cached nvidia_cuda_runtime_cu12-12.1.105-py3-none-manylinux1_x86_64.whl (823 kB)\n",
            "Collecting nvidia-cuda-cupti-cu12==12.1.105 (from torch>=1.12->colossalai==0.3.6)\n",
            "  Using cached nvidia_cuda_cupti_cu12-12.1.105-py3-none-manylinux1_x86_64.whl (14.1 MB)\n",
            "Collecting nvidia-cudnn-cu12==8.9.2.26 (from torch>=1.12->colossalai==0.3.6)\n",
            "  Using cached nvidia_cudnn_cu12-8.9.2.26-py3-none-manylinux1_x86_64.whl (731.7 MB)\n",
            "Collecting nvidia-cublas-cu12==12.1.3.1 (from torch>=1.12->colossalai==0.3.6)\n",
            "  Using cached nvidia_cublas_cu12-12.1.3.1-py3-none-manylinux1_x86_64.whl (410.6 MB)\n",
            "Collecting nvidia-cufft-cu12==11.0.2.54 (from torch>=1.12->colossalai==0.3.6)\n",
            "  Using cached nvidia_cufft_cu12-11.0.2.54-py3-none-manylinux1_x86_64.whl (121.6 MB)\n",
            "Collecting nvidia-curand-cu12==10.3.2.106 (from torch>=1.12->colossalai==0.3.6)\n",
            "  Using cached nvidia_curand_cu12-10.3.2.106-py3-none-manylinux1_x86_64.whl (56.5 MB)\n",
            "Collecting nvidia-cusolver-cu12==11.4.5.107 (from torch>=1.12->colossalai==0.3.6)\n",
            "  Using cached nvidia_cusolver_cu12-11.4.5.107-py3-none-manylinux1_x86_64.whl (124.2 MB)\n",
            "Collecting nvidia-cusparse-cu12==12.1.0.106 (from torch>=1.12->colossalai==0.3.6)\n",
            "  Using cached nvidia_cusparse_cu12-12.1.0.106-py3-none-manylinux1_x86_64.whl (196.0 MB)\n",
            "Collecting nvidia-nccl-cu12==2.19.3 (from torch>=1.12->colossalai==0.3.6)\n",
            "  Using cached nvidia_nccl_cu12-2.19.3-py3-none-manylinux1_x86_64.whl (166.0 MB)\n",
            "Collecting nvidia-nvtx-cu12==12.1.105 (from torch>=1.12->colossalai==0.3.6)\n",
            "  Using cached nvidia_nvtx_cu12-12.1.105-py3-none-manylinux1_x86_64.whl (99 kB)\n",
            "Requirement already satisfied: triton==2.2.0 in /usr/local/lib/python3.10/dist-packages (from torch>=1.12->colossalai==0.3.6) (2.2.0)\n",
            "Collecting nvidia-nvjitlink-cu12 (from nvidia-cusolver-cu12==11.4.5.107->torch>=1.12->colossalai==0.3.6)\n",
            "  Using cached nvidia_nvjitlink_cu12-12.4.127-py3-none-manylinux2014_x86_64.whl (21.1 MB)\n",
            "Collecting invoke>=2.0 (from fabric->colossalai==0.3.6)\n",
            "  Downloading invoke-2.2.0-py3-none-any.whl (160 kB)\n",
            "\u001b[2K     \u001b[90m━━━━━━━━━━━━━━━━━━━━━━━━━━━━━━━━━━━━━━━━\u001b[0m \u001b[32m160.3/160.3 kB\u001b[0m \u001b[31m25.0 MB/s\u001b[0m eta \u001b[36m0:00:00\u001b[0m\n",
            "\u001b[?25hCollecting paramiko>=2.4 (from fabric->colossalai==0.3.6)\n",
            "  Downloading paramiko-3.4.0-py3-none-any.whl (225 kB)\n",
            "\u001b[2K     \u001b[90m━━━━━━━━━━━━━━━━━━━━━━━━━━━━━━━━━━━━━━━━\u001b[0m \u001b[32m225.9/225.9 kB\u001b[0m \u001b[31m33.9 MB/s\u001b[0m eta \u001b[36m0:00:00\u001b[0m\n",
            "\u001b[?25hCollecting decorator>=5 (from fabric->colossalai==0.3.6)\n",
            "  Downloading decorator-5.1.1-py3-none-any.whl (9.1 kB)\n",
            "Collecting deprecated>=1.2 (from fabric->colossalai==0.3.6)\n",
            "  Downloading Deprecated-1.2.14-py2.py3-none-any.whl (9.6 kB)\n",
            "Requirement already satisfied: beautifulsoup4 in /usr/local/lib/python3.10/dist-packages (from google->colossalai==0.3.6) (4.12.3)\n",
            "Collecting cfgv>=2.0.0 (from pre-commit->colossalai==0.3.6)\n",
            "  Downloading cfgv-3.4.0-py2.py3-none-any.whl (7.2 kB)\n",
            "Collecting identify>=1.0.0 (from pre-commit->colossalai==0.3.6)\n",
            "  Downloading identify-2.5.35-py2.py3-none-any.whl (98 kB)\n",
            "\u001b[2K     \u001b[90m━━━━━━━━━━━━━━━━━━━━━━━━━━━━━━━━━━━━━━━━\u001b[0m \u001b[32m98.9/98.9 kB\u001b[0m \u001b[31m15.1 MB/s\u001b[0m eta \u001b[36m0:00:00\u001b[0m\n",
            "\u001b[?25hCollecting nodeenv>=0.11.1 (from pre-commit->colossalai==0.3.6)\n",
            "  Downloading nodeenv-1.8.0-py2.py3-none-any.whl (22 kB)\n",
            "Requirement already satisfied: pyyaml>=5.1 in /usr/local/lib/python3.10/dist-packages (from pre-commit->colossalai==0.3.6) (6.0.1)\n",
            "Collecting virtualenv>=20.10.0 (from pre-commit->colossalai==0.3.6)\n",
            "  Downloading virtualenv-20.25.1-py3-none-any.whl (3.8 MB)\n",
            "\u001b[2K     \u001b[90m━━━━━━━━━━━━━━━━━━━━━━━━━━━━━━━━━━━━━━━━\u001b[0m \u001b[32m3.8/3.8 MB\u001b[0m \u001b[31m97.5 MB/s\u001b[0m eta \u001b[36m0:00:00\u001b[0m\n",
            "\u001b[?25hRequirement already satisfied: annotated-types>=0.4.0 in /usr/local/lib/python3.10/dist-packages (from pydantic->colossalai==0.3.6) (0.6.0)\n",
            "Requirement already satisfied: pydantic-core==2.16.3 in /usr/local/lib/python3.10/dist-packages (from pydantic->colossalai==0.3.6) (2.16.3)\n",
            "Requirement already satisfied: jsonschema in /usr/local/lib/python3.10/dist-packages (from ray->colossalai==0.3.6) (4.19.2)\n",
            "Requirement already satisfied: msgpack<2.0.0,>=1.0.0 in /usr/local/lib/python3.10/dist-packages (from ray->colossalai==0.3.6) (1.0.8)\n",
            "Requirement already satisfied: aiosignal in /usr/local/lib/python3.10/dist-packages (from ray->colossalai==0.3.6) (1.3.1)\n",
            "Requirement already satisfied: frozenlist in /usr/local/lib/python3.10/dist-packages (from ray->colossalai==0.3.6) (1.4.1)\n",
            "Requirement already satisfied: requests in /usr/local/lib/python3.10/dist-packages (from ray->colossalai==0.3.6) (2.31.0)\n",
            "Requirement already satisfied: markdown-it-py>=2.2.0 in /usr/local/lib/python3.10/dist-packages (from rich->colossalai==0.3.6) (3.0.0)\n",
            "Requirement already satisfied: pygments<3.0.0,>=2.13.0 in /usr/local/lib/python3.10/dist-packages (from rich->colossalai==0.3.6) (2.16.1)\n",
            "Requirement already satisfied: wrapt<2,>=1.10 in /usr/local/lib/python3.10/dist-packages (from deprecated>=1.2->fabric->colossalai==0.3.6) (1.14.1)\n",
            "Requirement already satisfied: mdurl~=0.1 in /usr/local/lib/python3.10/dist-packages (from markdown-it-py>=2.2.0->rich->colossalai==0.3.6) (0.1.2)\n",
            "Requirement already satisfied: setuptools in /usr/local/lib/python3.10/dist-packages (from nodeenv>=0.11.1->pre-commit->colossalai==0.3.6) (67.7.2)\n",
            "Collecting bcrypt>=3.2 (from paramiko>=2.4->fabric->colossalai==0.3.6)\n",
            "  Downloading bcrypt-4.1.2-cp39-abi3-manylinux_2_28_x86_64.whl (698 kB)\n",
            "\u001b[2K     \u001b[90m━━━━━━━━━━━━━━━━━━━━━━━━━━━━━━━━━━━━━━━━\u001b[0m \u001b[32m698.9/698.9 kB\u001b[0m \u001b[31m67.9 MB/s\u001b[0m eta \u001b[36m0:00:00\u001b[0m\n",
            "\u001b[?25hRequirement already satisfied: cryptography>=3.3 in /usr/local/lib/python3.10/dist-packages (from paramiko>=2.4->fabric->colossalai==0.3.6) (42.0.5)\n",
            "Collecting pynacl>=1.5 (from paramiko>=2.4->fabric->colossalai==0.3.6)\n",
            "  Downloading PyNaCl-1.5.0-cp36-abi3-manylinux_2_17_x86_64.manylinux2014_x86_64.manylinux_2_24_x86_64.whl (856 kB)\n",
            "\u001b[2K     \u001b[90m━━━━━━━━━━━━━━━━━━━━━━━━━━━━━━━━━━━━━━━━\u001b[0m \u001b[32m856.7/856.7 kB\u001b[0m \u001b[31m75.3 MB/s\u001b[0m eta \u001b[36m0:00:00\u001b[0m\n",
            "\u001b[?25hCollecting distlib<1,>=0.3.7 (from virtualenv>=20.10.0->pre-commit->colossalai==0.3.6)\n",
            "  Downloading distlib-0.3.8-py2.py3-none-any.whl (468 kB)\n",
            "\u001b[2K     \u001b[90m━━━━━━━━━━━━━━━━━━━━━━━━━━━━━━━━━━━━━━━━\u001b[0m \u001b[32m468.9/468.9 kB\u001b[0m \u001b[31m57.7 MB/s\u001b[0m eta \u001b[36m0:00:00\u001b[0m\n",
            "\u001b[?25hRequirement already satisfied: platformdirs<5,>=3.9.1 in /usr/local/lib/python3.10/dist-packages (from virtualenv>=20.10.0->pre-commit->colossalai==0.3.6) (4.2.0)\n",
            "Requirement already satisfied: soupsieve>1.2 in /usr/local/lib/python3.10/dist-packages (from beautifulsoup4->google->colossalai==0.3.6) (2.5)\n",
            "Requirement already satisfied: MarkupSafe>=2.0 in /usr/local/lib/python3.10/dist-packages (from jinja2->torch>=1.12->colossalai==0.3.6) (2.1.5)\n",
            "Requirement already satisfied: attrs>=22.2.0 in /usr/local/lib/python3.10/dist-packages (from jsonschema->ray->colossalai==0.3.6) (23.2.0)\n",
            "Requirement already satisfied: jsonschema-specifications>=2023.03.6 in /usr/local/lib/python3.10/dist-packages (from jsonschema->ray->colossalai==0.3.6) (2023.12.1)\n",
            "Requirement already satisfied: referencing>=0.28.4 in /usr/local/lib/python3.10/dist-packages (from jsonschema->ray->colossalai==0.3.6) (0.34.0)\n",
            "Requirement already satisfied: rpds-py>=0.7.1 in /usr/local/lib/python3.10/dist-packages (from jsonschema->ray->colossalai==0.3.6) (0.18.0)\n",
            "Requirement already satisfied: charset-normalizer<4,>=2 in /usr/local/lib/python3.10/dist-packages (from requests->ray->colossalai==0.3.6) (3.3.2)\n",
            "Requirement already satisfied: idna<4,>=2.5 in /usr/local/lib/python3.10/dist-packages (from requests->ray->colossalai==0.3.6) (3.6)\n",
            "Requirement already satisfied: urllib3<3,>=1.21.1 in /usr/local/lib/python3.10/dist-packages (from requests->ray->colossalai==0.3.6) (2.0.7)\n",
            "Requirement already satisfied: certifi>=2017.4.17 in /usr/local/lib/python3.10/dist-packages (from requests->ray->colossalai==0.3.6) (2024.2.2)\n",
            "Requirement already satisfied: mpmath>=0.19 in /usr/local/lib/python3.10/dist-packages (from sympy->torch>=1.12->colossalai==0.3.6) (1.3.0)\n",
            "Requirement already satisfied: cffi>=1.12 in /usr/local/lib/python3.10/dist-packages (from cryptography>=3.3->paramiko>=2.4->fabric->colossalai==0.3.6) (1.16.0)\n",
            "Requirement already satisfied: pycparser in /usr/local/lib/python3.10/dist-packages (from cffi>=1.12->cryptography>=3.3->paramiko>=2.4->fabric->colossalai==0.3.6) (2.22)\n",
            "Building wheels for collected packages: colossalai, contexttimer\n",
            "  Building wheel for colossalai (setup.py) ... \u001b[?25l\u001b[?25hdone\n",
            "  Created wheel for colossalai: filename=colossalai-0.3.6-py3-none-any.whl size=1550336 sha256=324c50b74808020743c8f6b4af8cc1f5205263eb9e8794d87847091179822964\n",
            "  Stored in directory: /tmp/pip-ephem-wheel-cache-i3b6n2fe/wheels/b1/fb/16/e46aa3127ee272b8cac710c8f76aa02445d96aaeed9da956ea\n",
            "  Building wheel for contexttimer (setup.py) ... \u001b[?25l\u001b[?25hdone\n",
            "  Created wheel for contexttimer: filename=contexttimer-0.3.3-py3-none-any.whl size=5804 sha256=38fcf8100b7ae7e94722dbea69780f89111b73ce84da8e7697f53fbb823d9f98\n",
            "  Stored in directory: /root/.cache/pip/wheels/72/1c/da/cfd97201d88ccce214427fa84a5caeb91fef7c5a1b4c4312b4\n",
            "Successfully built colossalai contexttimer\n",
            "Installing collected packages: ninja, distlib, contexttimer, virtualenv, nvidia-nvtx-cu12, nvidia-nvjitlink-cu12, nvidia-nccl-cu12, nvidia-curand-cu12, nvidia-cufft-cu12, nvidia-cuda-runtime-cu12, nvidia-cuda-nvrtc-cu12, nvidia-cuda-cupti-cu12, nvidia-cublas-cu12, nodeenv, invoke, identify, einops, deprecated, decorator, cfgv, bcrypt, pynacl, pre-commit, nvidia-cusparse-cu12, nvidia-cudnn-cu12, paramiko, nvidia-cusolver-cu12, ray, fabric, colossalai\n",
            "  Attempting uninstall: decorator\n",
            "    Found existing installation: decorator 4.4.2\n",
            "    Uninstalling decorator-4.4.2:\n",
            "      Successfully uninstalled decorator-4.4.2\n",
            "\u001b[31mERROR: pip's dependency resolver does not currently take into account all the packages that are installed. This behaviour is the source of the following dependency conflicts.\n",
            "ipython 7.34.0 requires jedi>=0.16, which is not installed.\n",
            "moviepy 1.0.3 requires decorator<5.0,>=4.0.2, but you have decorator 5.1.1 which is incompatible.\u001b[0m\u001b[31m\n",
            "\u001b[0mSuccessfully installed bcrypt-4.1.2 cfgv-3.4.0 colossalai-0.3.6 contexttimer-0.3.3 decorator-5.1.1 deprecated-1.2.14 distlib-0.3.8 einops-0.7.0 fabric-3.2.2 identify-2.5.35 invoke-2.2.0 ninja-1.11.1.1 nodeenv-1.8.0 nvidia-cublas-cu12-12.1.3.1 nvidia-cuda-cupti-cu12-12.1.105 nvidia-cuda-nvrtc-cu12-12.1.105 nvidia-cuda-runtime-cu12-12.1.105 nvidia-cudnn-cu12-8.9.2.26 nvidia-cufft-cu12-11.0.2.54 nvidia-curand-cu12-10.3.2.106 nvidia-cusolver-cu12-11.4.5.107 nvidia-cusparse-cu12-12.1.0.106 nvidia-nccl-cu12-2.19.3 nvidia-nvjitlink-cu12-12.4.127 nvidia-nvtx-cu12-12.1.105 paramiko-3.4.0 pre-commit-3.7.0 pynacl-1.5.0 ray-2.10.0 virtualenv-20.25.1\n"
          ]
        },
        {
          "output_type": "display_data",
          "data": {
            "application/vnd.colab-display-data+json": {
              "pip_warning": {
                "packages": [
                  "decorator"
                ]
              },
              "id": "3936fe6c1686455c80b6e917b5b43ba7"
            }
          },
          "metadata": {}
        }
      ]
    },
    {
      "cell_type": "code",
      "source": [
        "cd /content/ColossalAI/examples/images/resnet"
      ],
      "metadata": {
        "colab": {
          "base_uri": "https://localhost:8080/"
        },
        "id": "n1-NPBP0dJPX",
        "outputId": "eceaf680-2f8b-43f0-d3fe-7bae1a51e8ea"
      },
      "execution_count": 1,
      "outputs": [
        {
          "output_type": "stream",
          "name": "stdout",
          "text": [
            "/content/ColossalAI/examples/images/resnet\n"
          ]
        }
      ]
    },
    {
      "cell_type": "code",
      "source": [
        "!colossalai run --nproc_per_node 1 train.py -c ./ckpt-fp32"
      ],
      "metadata": {
        "colab": {
          "base_uri": "https://localhost:8080/"
        },
        "id": "RoDPGu4ad0gc",
        "outputId": "8fbe71b5-af74-4ce4-9359-7a85034f124b"
      },
      "execution_count": 6,
      "outputs": [
        {
          "output_type": "stream",
          "name": "stdout",
          "text": [
            "/usr/local/lib/python3.10/dist-packages/colossalai/pipeline/schedule/_utils.py:19: UserWarning: torch.utils._pytree._register_pytree_node is deprecated. Please use torch.utils._pytree.register_pytree_node instead.\n",
            "  _register_pytree_node(OrderedDict, _odict_flatten, _odict_unflatten)\n",
            "/usr/local/lib/python3.10/dist-packages/torch/utils/_pytree.py:254: UserWarning: <class 'collections.OrderedDict'> is already registered as pytree node. Overwriting the previous registration.\n",
            "  warnings.warn(\n",
            "/usr/local/lib/python3.10/dist-packages/colossalai/shardformer/layer/normalization.py:45: UserWarning: Please install apex from source (https://github.com/NVIDIA/apex) to use the fused layernorm kernel\n",
            "  warnings.warn(\"Please install apex from source (https://github.com/NVIDIA/apex) to use the fused layernorm kernel\")\n",
            "/usr/local/lib/python3.10/dist-packages/colossalai/initialize.py:48: UserWarning: `config` is deprecated and will be removed soon.\n",
            "  warnings.warn(\"`config` is deprecated and will be removed soon.\")\n",
            "[04/12/24 08:46:09] INFO     colossalai - colossalai - INFO:                                        \n",
            "                             /usr/local/lib/python3.10/dist-packages/colossalai/initialize.py:67    \n",
            "                             launch                                                                 \n",
            "                    INFO     colossalai - colossalai - INFO: Distributed environment is initialized,\n",
            "                             world size: 1                                                          \n",
            "Downloading https://www.cs.toronto.edu/~kriz/cifar-10-python.tar.gz to ./data/cifar-10-python.tar.gz\n",
            "100%|██████████| 170498071/170498071 [00:04<00:00, 41736633.73it/s]\n",
            "Extracting ./data/cifar-10-python.tar.gz to ./data\n",
            "Files already downloaded and verified\n",
            "/usr/local/lib/python3.10/dist-packages/colossalai/kernel/extensions/utils.py:96: UserWarning: [extension] The CUDA version on the system (12.2) does not match with the version (12.1) torch was compiled with. The mismatch is found in the minor version. As the APIs are compatible, we will allow compilation to proceed. If you encounter any issue when using the built kernel, please try to build it again with fully matched CUDA versions\n",
            "  warnings.warn(\n",
            "[extension] Compiling the JIT cpu_adam_x86 kernel during runtime now\n",
            "[extension] Time taken to compile cpu_adam_x86 op: 37.136481523513794 seconds\n",
            "/usr/local/lib/python3.10/dist-packages/colossalai/kernel/extensions/utils.py:96: UserWarning: [extension] The CUDA version on the system (12.2) does not match with the version (12.1) torch was compiled with. The mismatch is found in the minor version. As the APIs are compatible, we will allow compilation to proceed. If you encounter any issue when using the built kernel, please try to build it again with fully matched CUDA versions\n",
            "  warnings.warn(\n",
            "[extension] Compiling the JIT fused_optim_cuda kernel during runtime now\n",
            "[extension] Time taken to compile fused_optim_cuda op: 243.12205266952515 seconds\n",
            "/usr/local/lib/python3.10/dist-packages/colossalai/nn/optimizer/hybrid_adam.py:90: UserWarning: The torch.cuda.*DtypeTensor constructors are no longer recommended. It's best to use methods such as torch.tensor(data, dtype=*, device='cuda') to create tensors. (Triggered internally at ../torch/csrc/tensor/python_tensor.cpp:83.)\n",
            "  self._dummy_overflow_buf = torch.cuda.IntTensor([0])\n",
            "Epoch [1/80]:   0%|          | 0/500 [00:00<?, ?it/s]/usr/local/lib/python3.10/dist-packages/colossalai/nn/optimizer/nvme_optimizer.py:55: UserWarning: TypedStorage is deprecated. It will be removed in the future and UntypedStorage will be the only storage class. This should only matter to you if you are using storages directly.  To access UntypedStorage directly, use tensor.untyped_storage() instead of tensor.storage()\n",
            "  numel += p.storage().size()\n",
            "Epoch [1/80]: 100%|██████████| 500/500 [00:30<00:00, 16.32it/s, loss=1.45]\n",
            "Epoch [2/80]: 100%|██████████| 500/500 [00:29<00:00, 16.89it/s, loss=1.17]\n",
            "Epoch [3/80]: 100%|██████████| 500/500 [00:30<00:00, 16.65it/s, loss=0.981]\n",
            "Epoch [4/80]: 100%|██████████| 500/500 [00:29<00:00, 16.98it/s, loss=0.914]\n",
            "Epoch [5/80]: 100%|██████████| 500/500 [00:29<00:00, 16.93it/s, loss=0.921]\n",
            "Epoch [6/80]: 100%|██████████| 500/500 [00:29<00:00, 16.82it/s, loss=0.771]\n",
            "Epoch [7/80]: 100%|██████████| 500/500 [00:29<00:00, 17.04it/s, loss=0.852]\n",
            "Epoch [8/80]: 100%|██████████| 500/500 [00:29<00:00, 16.79it/s, loss=0.71]\n",
            "Epoch [9/80]: 100%|██████████| 500/500 [00:29<00:00, 17.04it/s, loss=0.744]\n",
            "Epoch [10/80]: 100%|██████████| 500/500 [00:29<00:00, 16.77it/s, loss=0.665]\n",
            "Epoch [11/80]: 100%|██████████| 500/500 [00:29<00:00, 16.93it/s, loss=0.684]\n",
            "Epoch [12/80]: 100%|██████████| 500/500 [00:29<00:00, 16.81it/s, loss=0.704]\n",
            "Epoch [13/80]: 100%|██████████| 500/500 [00:29<00:00, 16.72it/s, loss=0.608]\n",
            "Epoch [14/80]: 100%|██████████| 500/500 [00:29<00:00, 17.07it/s, loss=0.552]\n",
            "Epoch [15/80]: 100%|██████████| 500/500 [00:30<00:00, 16.61it/s, loss=0.502]\n",
            "Epoch [16/80]: 100%|██████████| 500/500 [00:29<00:00, 16.87it/s, loss=0.388]\n",
            "Epoch [17/80]: 100%|██████████| 500/500 [00:30<00:00, 16.54it/s, loss=0.623]\n",
            "Epoch [18/80]: 100%|██████████| 500/500 [00:29<00:00, 16.81it/s, loss=0.479]\n",
            "Epoch [19/80]: 100%|██████████| 500/500 [00:30<00:00, 16.52it/s, loss=0.577]\n",
            "Epoch [20/80]: 100%|██████████| 500/500 [00:29<00:00, 16.85it/s, loss=0.394]\n",
            "Epoch [21/80]: 100%|██████████| 500/500 [00:30<00:00, 16.52it/s, loss=0.383]\n",
            "Epoch [22/80]: 100%|██████████| 500/500 [00:29<00:00, 16.77it/s, loss=0.266]\n",
            "Epoch [23/80]: 100%|██████████| 500/500 [00:29<00:00, 16.79it/s, loss=0.514]\n",
            "Epoch [24/80]: 100%|██████████| 500/500 [00:30<00:00, 16.40it/s, loss=0.316]\n",
            "Epoch [25/80]: 100%|██████████| 500/500 [00:30<00:00, 16.47it/s, loss=0.322]\n",
            "Epoch [26/80]: 100%|██████████| 500/500 [00:30<00:00, 16.16it/s, loss=0.304]\n",
            "Epoch [27/80]: 100%|██████████| 500/500 [00:30<00:00, 16.55it/s, loss=0.247]\n",
            "Epoch [28/80]: 100%|██████████| 500/500 [00:30<00:00, 16.16it/s, loss=0.233]\n",
            "Epoch [29/80]: 100%|██████████| 500/500 [00:30<00:00, 16.46it/s, loss=0.246]\n",
            "Epoch [30/80]: 100%|██████████| 500/500 [00:30<00:00, 16.18it/s, loss=0.265]\n",
            "Epoch [31/80]: 100%|██████████| 500/500 [00:30<00:00, 16.39it/s, loss=0.332]\n",
            "Epoch [32/80]: 100%|██████████| 500/500 [00:30<00:00, 16.39it/s, loss=0.217]\n",
            "Epoch [33/80]: 100%|██████████| 500/500 [00:29<00:00, 16.70it/s, loss=0.22]\n",
            "Epoch [34/80]: 100%|██████████| 500/500 [00:30<00:00, 16.40it/s, loss=0.186]\n",
            "Epoch [35/80]: 100%|██████████| 500/500 [00:29<00:00, 16.79it/s, loss=0.202]\n",
            "Epoch [36/80]: 100%|██████████| 500/500 [00:30<00:00, 16.32it/s, loss=0.249]\n",
            "Epoch [37/80]: 100%|██████████| 500/500 [00:30<00:00, 16.63it/s, loss=0.153]\n",
            "Epoch [38/80]: 100%|██████████| 500/500 [00:30<00:00, 16.30it/s, loss=0.231]\n",
            "Epoch [39/80]: 100%|██████████| 500/500 [00:30<00:00, 16.42it/s, loss=0.228]\n",
            "Epoch [40/80]: 100%|██████████| 500/500 [00:30<00:00, 16.24it/s, loss=0.275]\n",
            "Epoch [41/80]: 100%|██████████| 500/500 [00:30<00:00, 16.56it/s, loss=0.112]\n",
            "Epoch [42/80]: 100%|██████████| 500/500 [00:31<00:00, 16.04it/s, loss=0.115]\n",
            "Epoch [43/80]: 100%|██████████| 500/500 [00:30<00:00, 16.52it/s, loss=0.128]\n",
            "Epoch [44/80]: 100%|██████████| 500/500 [00:30<00:00, 16.27it/s, loss=0.107]\n",
            "Epoch [45/80]: 100%|██████████| 500/500 [00:30<00:00, 16.58it/s, loss=0.0829]\n",
            "Epoch [46/80]: 100%|██████████| 500/500 [00:30<00:00, 16.15it/s, loss=0.153]\n",
            "Epoch [47/80]: 100%|██████████| 500/500 [00:30<00:00, 16.35it/s, loss=0.0857]\n",
            "Epoch [48/80]: 100%|██████████| 500/500 [00:31<00:00, 16.07it/s, loss=0.0923]\n",
            "Epoch [49/80]: 100%|██████████| 500/500 [00:30<00:00, 16.48it/s, loss=0.0992]\n",
            "Epoch [50/80]: 100%|██████████| 500/500 [00:30<00:00, 16.14it/s, loss=0.119]\n",
            "Epoch [51/80]: 100%|██████████| 500/500 [00:30<00:00, 16.28it/s, loss=0.0591]\n",
            "Epoch [52/80]: 100%|██████████| 500/500 [00:31<00:00, 16.00it/s, loss=0.0677]\n",
            "Epoch [53/80]: 100%|██████████| 500/500 [00:30<00:00, 16.41it/s, loss=0.0449]\n",
            "Epoch [54/80]: 100%|██████████| 500/500 [00:31<00:00, 16.00it/s, loss=0.0926]\n",
            "Epoch [55/80]: 100%|██████████| 500/500 [00:30<00:00, 16.38it/s, loss=0.0541]\n",
            "Epoch [56/80]: 100%|██████████| 500/500 [00:31<00:00, 16.06it/s, loss=0.0654]\n",
            "Epoch [57/80]: 100%|██████████| 500/500 [00:30<00:00, 16.41it/s, loss=0.0365]\n",
            "Epoch [58/80]: 100%|██████████| 500/500 [00:31<00:00, 16.06it/s, loss=0.0557]\n",
            "Epoch [59/80]: 100%|██████████| 500/500 [00:30<00:00, 16.27it/s, loss=0.0976]\n",
            "Epoch [60/80]: 100%|██████████| 500/500 [00:31<00:00, 15.93it/s, loss=0.119]\n",
            "Epoch [61/80]: 100%|██████████| 500/500 [00:30<00:00, 16.19it/s, loss=0.0986]\n",
            "Epoch [62/80]: 100%|██████████| 500/500 [00:31<00:00, 15.72it/s, loss=0.0338]\n",
            "Epoch [63/80]: 100%|██████████| 500/500 [00:31<00:00, 16.13it/s, loss=0.0401]\n",
            "Epoch [64/80]: 100%|██████████| 500/500 [00:31<00:00, 15.99it/s, loss=0.0609]\n",
            "Epoch [65/80]: 100%|██████████| 500/500 [00:31<00:00, 15.97it/s, loss=0.128]\n",
            "Epoch [66/80]: 100%|██████████| 500/500 [00:30<00:00, 16.15it/s, loss=0.0564]\n",
            "Epoch [67/80]: 100%|██████████| 500/500 [00:31<00:00, 15.92it/s, loss=0.0374]\n",
            "Epoch [68/80]: 100%|██████████| 500/500 [00:30<00:00, 16.20it/s, loss=0.0915]\n",
            "Epoch [69/80]: 100%|██████████| 500/500 [00:31<00:00, 15.85it/s, loss=0.0705]\n",
            "Epoch [70/80]: 100%|██████████| 500/500 [00:31<00:00, 16.03it/s, loss=0.074]\n",
            "Epoch [71/80]: 100%|██████████| 500/500 [00:31<00:00, 15.84it/s, loss=0.0451]\n",
            "Epoch [72/80]: 100%|██████████| 500/500 [00:31<00:00, 15.96it/s, loss=0.0751]\n",
            "Epoch [73/80]: 100%|██████████| 500/500 [00:31<00:00, 15.95it/s, loss=0.0487]\n",
            "Epoch [74/80]: 100%|██████████| 500/500 [00:31<00:00, 15.83it/s, loss=0.0766]\n",
            "Epoch [75/80]: 100%|██████████| 500/500 [00:31<00:00, 16.11it/s, loss=0.0496]\n",
            "Epoch [76/80]: 100%|██████████| 500/500 [00:31<00:00, 15.69it/s, loss=0.0512]\n",
            "Epoch [77/80]: 100%|██████████| 500/500 [00:31<00:00, 16.03it/s, loss=0.0342]\n",
            "Epoch [78/80]: 100%|██████████| 500/500 [00:31<00:00, 15.79it/s, loss=0.12]\n",
            "Epoch [79/80]: 100%|██████████| 500/500 [00:31<00:00, 15.97it/s, loss=0.0622]\n",
            "Epoch [80/80]: 100%|██████████| 500/500 [00:31<00:00, 15.81it/s, loss=0.0462]\n",
            "Accuracy of the model on the test images: 85.16 %\n",
            "\n",
            "====== Training on All Nodes =====\n",
            "127.0.0.1: success\n",
            "\n",
            "====== Stopping All Nodes =====\n",
            "127.0.0.1: finish\n"
          ]
        }
      ]
    },
    {
      "cell_type": "code",
      "source": [
        "!python eval.py -c ./ckpt-fp32 -e 80"
      ],
      "metadata": {
        "colab": {
          "base_uri": "https://localhost:8080/"
        },
        "id": "FlNlcbhpePIA",
        "outputId": "8d65055d-9946-4057-c0b9-d887a8a8d30d"
      },
      "execution_count": 7,
      "outputs": [
        {
          "output_type": "stream",
          "name": "stdout",
          "text": [
            "Accuracy of the model on the test images: 85.16 %\n"
          ]
        }
      ]
    }
  ]
}